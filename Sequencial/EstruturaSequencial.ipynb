{
 "cells": [
  {
   "cell_type": "markdown",
   "metadata": {},
   "source": [
    "## Estrutura Sequencial\n",
    "\n",
    "### Exercicios:\n",
    "\n",
    "1. Faça um Programa que mostre a mensagem 'Alô Mundo' na tela"
   ]
  },
  {
   "cell_type": "code",
   "execution_count": 1,
   "metadata": {},
   "outputs": [
    {
     "name": "stdout",
     "output_type": "stream",
     "text": [
      "Alô Mundo\n"
     ]
    }
   ],
   "source": [
    "print('Alô Mundo')"
   ]
  },
  {
   "cell_type": "markdown",
   "metadata": {},
   "source": [
    "2. Faça um programa que peça um número e então mostre a mensagem 'O número informado foi [numero]'"
   ]
  },
  {
   "cell_type": "code",
   "execution_count": 3,
   "metadata": {},
   "outputs": [
    {
     "name": "stdout",
     "output_type": "stream",
     "text": [
      "O número informado foi 45.\n"
     ]
    }
   ],
   "source": [
    "numero = int(input('Informe um número: '))\n",
    "print(f'O número informado foi {numero}.')"
   ]
  },
  {
   "cell_type": "markdown",
   "metadata": {},
   "source": [
    "3. Faça um programa que peça dois números e imprima a soma"
   ]
  },
  {
   "cell_type": "code",
   "execution_count": 6,
   "metadata": {},
   "outputs": [
    {
     "name": "stdout",
     "output_type": "stream",
     "text": [
      "30 + 23 = 53\n"
     ]
    }
   ],
   "source": [
    "n1 = int(input('Informe um numero : '))\n",
    "n2 = int(input('Informe outro numero: '))\n",
    "soma = n1+n2\n",
    "\n",
    "print('{} + {} = {}'.format(n1, n2, soma))"
   ]
  },
  {
   "cell_type": "markdown",
   "metadata": {},
   "source": [
    "4. Faça um programa que peça as 4 notas bimestrais e mostre a média:\n"
   ]
  },
  {
   "cell_type": "code",
   "execution_count": 18,
   "metadata": {},
   "outputs": [
    {
     "name": "stdout",
     "output_type": "stream",
     "text": [
      "==============================\n",
      "Sua média bimestral é:\n",
      "5.0\n",
      "==============================\n"
     ]
    }
   ],
   "source": [
    "nota1 = int(input('Informe a primeira nota deste bimestre: '))\n",
    "nota2 = int(input('Informe a segunda nota: '))\n",
    "nota3 = int(input('Informe a terceira nota: '))\n",
    "nota4 = int(input('Informe a a quarta e última nota deste bimestre: '))\n",
    "\n",
    "media = (nota1 + nota2 + nota3 + nota4)/4\n",
    "\n",
    "print('='*30)\n",
    "print('Sua média bimestral é:\\n{}'.format(media))\n",
    "print('='*30)"
   ]
  },
  {
   "cell_type": "markdown",
   "metadata": {},
   "source": [
    "5. Faça um programa que converta metros para centimetros"
   ]
  },
  {
   "cell_type": "code",
   "execution_count": 21,
   "metadata": {},
   "outputs": [
    {
     "name": "stdout",
     "output_type": "stream",
     "text": [
      "456m equivale a 45600cm\n"
     ]
    }
   ],
   "source": [
    "metros = int(input('Metros em Centimetros. Converta: '))\n",
    "centimetros = metros*100\n",
    "print(f'{metros}m equivale a {centimetros}cm')\n"
   ]
  },
  {
   "cell_type": "markdown",
   "metadata": {},
   "source": [
    "5. faça um programa que que peça o raio de um círculo, calcule e moste sua area:"
   ]
  },
  {
   "cell_type": "code",
   "execution_count": 31,
   "metadata": {},
   "outputs": [
    {
     "name": "stdout",
     "output_type": "stream",
     "text": [
      "A área do círculo com raio de 3.0, é 28.27m²\n"
     ]
    }
   ],
   "source": [
    "pi = 3.1415\n",
    "r = float(input('Infome o raio do círculo: '))\n",
    "\n",
    "area = pi*r**2\n",
    "\n",
    "print(f'A área do círculo com raio de {r}, é {area:.2f}m²')\n"
   ]
  },
  {
   "cell_type": "markdown",
   "metadata": {},
   "source": [
    "7. Faça um Programa que calcule a área de um quadrado, em seguida mostre o\n",
    "dobro desta área para o usuário.\n"
   ]
  },
  {
   "cell_type": "code",
   "execution_count": 35,
   "metadata": {},
   "outputs": [
    {
     "name": "stdout",
     "output_type": "stream",
     "text": [
      "O dobro da área do quadrado é 50.0m².\n",
      "A área deste quadrado é 25.0m².\n"
     ]
    }
   ],
   "source": [
    "lado = float(input('Informe a medida de um lado do quadrado: '))\n",
    "area = lado**2\n",
    "dobro = area*2\n",
    "\n",
    "print('O dobro da área do quadrado é {}m².\\nA área deste quadrado é {}m².'.format(dobro, area))\n",
    "\n"
   ]
  },
  {
   "cell_type": "markdown",
   "metadata": {},
   "source": [
    "8. Faça um Programa que pergunte quanto você ganha por hora e o número de horas\n",
    "trabalhadas no mês. Calcule e mostre o total do seu salário no referido mês.\n"
   ]
  },
  {
   "cell_type": "code",
   "execution_count": 36,
   "metadata": {},
   "outputs": [
    {
     "name": "stdout",
     "output_type": "stream",
     "text": [
      "Seu salário mensal é 1800.0\n"
     ]
    }
   ],
   "source": [
    "valor_hora = float(input('Informe seu salário por hora: '))\n",
    "horas_mes = int(input('Informe a quantidade de horas trabalhadas neste mês: '))\n",
    "\n",
    "salario_mes = valor_hora * horas_mes\n",
    "\n",
    "print(f'Seu salário mensal é {salario_mes}')\n"
   ]
  },
  {
   "cell_type": "markdown",
   "metadata": {},
   "source": [
    "9.Faça um Programa que peça a temperatura em graus Fahrenheit, transforme e\n",
    "mostre a temperatura em graus Celsius.\n",
    "**C = 5 * ((F-32) / 9)**.\n"
   ]
  },
  {
   "cell_type": "code",
   "execution_count": 40,
   "metadata": {},
   "outputs": [
    {
     "name": "stdout",
     "output_type": "stream",
     "text": [
      "15.0°F equivale a -9.44°C\n"
     ]
    }
   ],
   "source": [
    "fahrenheit = float(input('Informe a temperatura em °F: '))\n",
    "celsius = 5 * ((fahrenheit - 32) / 9)\n",
    "\n",
    "print(f'{fahrenheit}°F equivale a {celsius:.2f}°C')\n"
   ]
  },
  {
   "cell_type": "markdown",
   "metadata": {},
   "source": [
    "10.  Faça um Programa que peça a temperatura em graus Celsius, transforme e mostre em graus Fahrenheit.\n",
    "\n",
    "(0 °C × 9/5) + 32 = 32 °F\n"
   ]
  },
  {
   "cell_type": "code",
   "execution_count": 41,
   "metadata": {},
   "outputs": [
    {
     "name": "stdout",
     "output_type": "stream",
     "text": [
      "23.0°C equivale a 73.40°F\n"
     ]
    }
   ],
   "source": [
    "celsius = float(input('Informe a temperatura em °C: '))\n",
    "fahrenheit = (celsius* 9 / 5) + 32\n",
    "\n",
    "print(f'{celsius}°C equivale a {fahrenheit:.2f}°F')"
   ]
  },
  {
   "cell_type": "markdown",
   "metadata": {},
   "source": [
    "11. Faça um Programa que peça 2 números inteiros e um número real. Calcule e\n",
    "mostre:\n",
    "\n",
    "a. o produto do dobro do primeiro com metade do segundo .\n",
    "\n",
    "\n",
    "b. a soma do triplo do primeiro com o terceiro.\n",
    "\n",
    "\n",
    "c. o terceiro elevado ao cubo.\n"
   ]
  },
  {
   "cell_type": "code",
   "execution_count": 43,
   "metadata": {},
   "outputs": [
    {
     "name": "stdout",
     "output_type": "stream",
     "text": [
      "O produto do dobro de 5 com a metade de 5 é 25.0.\n",
      "A soma do triplo de 5 com 5.0 é 20.0.\n",
      "5.0³ é igual a 125.00\n"
     ]
    }
   ],
   "source": [
    "n1 = int(input('Digite um número inteiro: '))\n",
    "n2 = int(input('Digite outro número inteiro: '))\n",
    "n3 = float(input('Digite um número real: '))\n",
    "\n",
    "a = (n1*2) * (n2/2)\n",
    "b = (n1*3) + (n3)\n",
    "c = (n3**3)\n",
    "\n",
    "print(f'O produto do dobro de {n1} com a metade de {n2} é {a}.')\n",
    "print(f'A soma do triplo de {n1} com {n3} é {b}.')\n",
    "print(f'{n3}³ é igual a {c:.2f}')\n",
    "\n"
   ]
  },
  {
   "cell_type": "markdown",
   "metadata": {},
   "source": [
    "12. Tendo como dados de entrada a altura de uma pessoa, construa um algoritmo que\n",
    "calcule seu peso ideal, usando a seguinte fórmula: (72.7*altura) - 58\n"
   ]
  },
  {
   "cell_type": "code",
   "execution_count": 46,
   "metadata": {},
   "outputs": [
    {
     "name": "stdout",
     "output_type": "stream",
     "text": [
      "Seu peso ideal é 80.1kg\n"
     ]
    }
   ],
   "source": [
    "altura = float(input('Informe sua altura: '))\n",
    "ideal = (72.7*altura) - 58\n",
    "\n",
    "print(f'Seu peso ideal é {ideal:.1f}kg')"
   ]
  },
  {
   "cell_type": "markdown",
   "metadata": {},
   "source": [
    "13. Tendo como dado de entrada a altura (h) de uma pessoa, construa um algoritmo\n",
    "que calcule seu peso ideal, utilizando as seguintes fórmulas:\n",
    "\n",
    "\n",
    "a. Para homens: (72.7*h) - 58\n",
    "\n",
    "b. Para mulheres: (62.1*h) - 44.7\n"
   ]
  },
  {
   "cell_type": "code",
   "execution_count": 50,
   "metadata": {},
   "outputs": [
    {
     "name": "stdout",
     "output_type": "stream",
     "text": [
      "Para a altura de 1.7m, o peso ideal é de:\n",
      "-  65.59kg para homens\n",
      "-  60.87kg para mulheres\n"
     ]
    }
   ],
   "source": [
    "h = float(input('Informe a altura: '))\n",
    "ideal_h = (72.7*h) - 58\n",
    "ideal_f = (62.1*h) - 44.7\n",
    "\n",
    "print(f'Para a altura de {h}m, o peso ideal é de:\\n-  {ideal_h:.2f}kg para homens\\n-  {ideal_f:.2f}kg para mulheres')\n"
   ]
  },
  {
   "cell_type": "markdown",
   "metadata": {},
   "source": [
    "14. João Papo-de-Pescador, homem de bem, comprou um microcomputador para\n",
    "controlar o rendimento diário de seu trabalho. Toda vez que ele traz um peso de\n",
    "peixes maior que o estabelecido pelo regulamento de pesca do estado de São\n",
    "Paulo (50 quilos) deve pagar uma multa de R$ 4,00 por quilo excedente. João\n",
    "precisa que você faça um programa que leia a variável peso (peso de peixes) e\n",
    "calcule o excesso. Gravar na variável excesso a quantidade de quilos além do\n",
    "limite e na variável multa o valor da multa que João deverá pagar. Imprima os\n",
    "dados do programa com as mensagens adequadas."
   ]
  },
  {
   "cell_type": "code",
   "execution_count": 90,
   "metadata": {},
   "outputs": [
    {
     "name": "stdout",
     "output_type": "stream",
     "text": [
      "Você ultrapassou 6.0kg além dos 50kg permitido, devendo pagar uma multa de R$24.00 \n"
     ]
    }
   ],
   "source": [
    "peso = float(input('Peso dos peixes: '))\n",
    "multa = (4*peso)-200\n",
    "excesso = multa/4\n",
    "\n",
    "print(f\"Você ultrapassou {excesso}kg além dos 50kg permitido, devendo pagar uma multa de R${multa:.2f}\")\n",
    "\n",
    "\n"
   ]
  },
  {
   "cell_type": "markdown",
   "metadata": {},
   "source": [
    "15. Faça um Programa que pergunte quanto você ganha por hora e o número de horas\n",
    "trabalhadas no mês. Calcule e mostre o total do seu salário no referido mês,\n",
    "sabendo-se que são descontados 11% para o Imposto de Renda, 8% para o INSS\n",
    "e 5% para o sindicato, faça um programa que nos dê:\n",
    "\n",
    "\n",
    "a. salário bruto.\n",
    "\n",
    "\n",
    "b. quanto pagou ao INSS.\n",
    "\n",
    "\n",
    "c. quanto pagou ao sindicato.\n",
    "\n",
    "\n",
    "d. o salário líquido.\n",
    "\n",
    "\n",
    "e. calcule os descontos e o salário líquido, conforme a tabela abaixo:\n",
    "+ Salário Bruto : R$\n",
    "- IR (11%) : R$\n",
    "- INSS (8%) : R$\n",
    "- Sindicato ( 5%) : R$\n",
    "= Salário Liquido : R$\n",
    "Obs.: Salário Bruto - Descontos = Salário Líquido.\n",
    "\n",
    "\n"
   ]
  },
  {
   "cell_type": "code",
   "execution_count": 92,
   "metadata": {},
   "outputs": [
    {
     "name": "stdout",
     "output_type": "stream",
     "text": [
      "\n",
      "Salário bruto     -> R$ 2400.0\n",
      "Imposto de Renda  -> R$ 264.0\n",
      "INSS              -> R$ 192.0\n",
      "Sindicato         -> R$ 120.0\n",
      "Salário Líquido   -> R$ 1824.0\n",
      "\n",
      "\n",
      "\n"
     ]
    }
   ],
   "source": [
    "valor_hora = float(input('Informe seu salário por hora: '))\n",
    "horas_mes = int(input('Informe a quantidade de horas trabalhadas neste mês: '))\n",
    "\n",
    "sal_bruto = valor_hora * horas_mes\n",
    "ir = (11/100 * sal_bruto) \n",
    "inss = (8/100 * sal_bruto)\n",
    "sindicato = (5/100 * sal_bruto)\n",
    "descontos = (ir + inss + sindicato)\n",
    "\n",
    "sal_liq = sal_bruto - descontos\n",
    "\n",
    "\n",
    "\n",
    "print(f\"\"\"\n",
    "Salário bruto     -> R$ {sal_bruto}\n",
    "Imposto de Renda  -> R$ {ir}\n",
    "INSS              -> R$ {inss}\n",
    "Sindicato         -> R$ {sindicato}\n",
    "Salário Líquido   -> R$ {sal_liq}\n",
    "\n",
    "\n",
    "\"\"\")"
   ]
  },
  {
   "cell_type": "markdown",
   "metadata": {},
   "source": [
    "16. Faça um programa para uma loja de tintas. O programa deverá pedir o tamanho\n",
    "em metros quadrados da área a ser pintada. Considere que a cobertura da tinta é\n",
    "de 1 litro para cada 3 metros quadrados e que a tinta é vendida em latas de 18\n",
    "litros, que custam R$ 80,00. Informe ao usuário a quantidades de latas de tinta a\n",
    "serem compradas e o preço total.\n"
   ]
  },
  {
   "cell_type": "code",
   "execution_count": 102,
   "metadata": {},
   "outputs": [
    {
     "name": "stdout",
     "output_type": "stream",
     "text": [
      "Para uma area de 60.0m², é necessário 2 lata(s) de tinta.\n",
      "O valor total é R$160\n"
     ]
    }
   ],
   "source": [
    "import math\n",
    "area = float(input('Informe o tamanho da area a ser pintada em m²: '))\n",
    "litros = area/3\n",
    "lata = 18\n",
    "preco = 80\n",
    "\n",
    "latas = math.ceil(litros / lata)\n",
    "custo = latas * preco\n",
    "\n",
    "print(f'Para uma area de {area}m², é necessário {latas} lata(s) de tinta.\\nO valor total é R${custo}')\n",
    "\n",
    "\n",
    "\n",
    "\n",
    "\n"
   ]
  },
  {
   "cell_type": "markdown",
   "metadata": {},
   "source": [
    "17. Faça um Programa para uma loja de tintas. O programa deverá pedir o tamanho\n",
    "em metros quadrados da área a ser pintada. Considere que a cobertura da tinta é\n",
    "de 1 litro para cada 6 metros quadrados e que a tinta é vendida em latas de 18\n",
    "litros, que custam R$ 80,00 ou em galões de 3,6 litros, que custam R$ 25,00.\n",
    "Informe ao usuário as quantidades de tinta a serem compradas e os\n",
    "respectivos preços em 3 situações:\n",
    "\n",
    " - comprar apenas latas de 18 litros;\n",
    " - comprar apenas galões de 3,6 litros;\n",
    " - misturar latas e galões, de forma que o desperdício de tinta seja menor.\n",
    "\n",
    " \n",
    "Acrescente 10% de folga e sempre arredonde os valores para cima, isto é,\n",
    "considere latas cheias.\n"
   ]
  },
  {
   "cell_type": "code",
   "execution_count": 110,
   "metadata": {},
   "outputs": [
    {
     "name": "stdout",
     "output_type": "stream",
     "text": [
      "Para uma area de 200.0m², é necessário 3 lata(s) de tinta.\n",
      "O valor total é R$240\n",
      "Para a mesma área, pode utilizar 11 galões a um custo de R$275\n",
      "Também pode utilizar 2 lata(s) e  1 galão(ões) a um custo de R$185\n"
     ]
    }
   ],
   "source": [
    "import math\n",
    "area = float(input('Informe o tamanho da area a ser pintada em m²: '))\n",
    "area_folga = area * 1.1\n",
    "litros = area_folga/6\n",
    "lata = 18  #litros por lata\n",
    "preco_l = 80 #por lata\n",
    "galao = 3.6 #litros\n",
    "preco_g = 25 #por galao\n",
    "\n",
    "#comprar lata\n",
    "latas = math.ceil(litros / lata)\n",
    "custo_lts = latas * preco_l\n",
    "\n",
    "#comprar galao\n",
    "galoes = math.ceil(litros / galao)\n",
    "custo_gls = galoes * preco_g\n",
    "\n",
    "\n",
    "#galões + latas\n",
    "\n",
    "lata_mix = math.floor(litros / lata)\n",
    "custo_lata_mix = lata_mix * preco_l\n",
    "litros_faltantes = litros % lata\n",
    "galoes_ = math.ceil(litros_faltantes / galao)\n",
    "custo_com_galoes = galoes_ * preco_g\n",
    "\n",
    "total = custo_lata_mix + custo_com_galoes\n",
    "\n",
    "\n",
    "\n",
    "\n",
    "\n",
    "print(f'Para uma area de {area}m², é necessário {latas} lata(s) de tinta.\\nO valor total é R${custo_lts}')\n",
    "print(f'Para a mesma área, pode utilizar {galoes} galões a um custo de R${custo_gls}')\n",
    "print(f'Também pode utilizar {lata_mix} lata(s) e  {galoes_} galão(ões) a um custo de R${total}')\n",
    "\n"
   ]
  },
  {
   "cell_type": "markdown",
   "metadata": {},
   "source": [
    "18. Faça um programa que peça o tamanho de um arquivo para download (em MB) e a\n",
    "velocidade de um link de Internet (em Mbps), calcule e informe o tempo\n",
    "aproximado de download do arquivo usando este link (em minutos)."
   ]
  },
  {
   "cell_type": "code",
   "execution_count": 122,
   "metadata": {},
   "outputs": [
    {
     "name": "stdout",
     "output_type": "stream",
     "text": [
      "Tempo para download: 0 minuto(s) e 12.0 segundos\n"
     ]
    }
   ],
   "source": [
    "tamanho = float(input('Informe o tamanho do arquivo em MB'))\n",
    "velocidade = float(input('Informe a velocidade em Mbps: '))\n",
    "\n",
    "segundos = tamanho/(velocidade/8)\n",
    "minutos = int(segundos/60)\n",
    "segundos = segundos%60\n",
    "print(f\"Tempo para download: {minutos} minuto(s) e {segundos:.1f} segundos\")\n",
    "\n",
    "\n",
    "\n",
    "#formula\n",
    "#5 Megabits por segundo / 8 = 0,625 Megabytes por segundo.\n",
    "#Tamanho do arquivo em megabytes / (velocidade de download em megabits / 8) =  tempo em segundos.\n"
   ]
  }
 ],
 "metadata": {
  "interpreter": {
   "hash": "95b53a179ff13c7aba0275611baa7ffd8bf362d5ec464c732765071475d00e09"
  },
  "kernelspec": {
   "display_name": "Python 3.8.8 ('base')",
   "language": "python",
   "name": "python3"
  },
  "language_info": {
   "codemirror_mode": {
    "name": "ipython",
    "version": 3
   },
   "file_extension": ".py",
   "mimetype": "text/x-python",
   "name": "python",
   "nbconvert_exporter": "python",
   "pygments_lexer": "ipython3",
   "version": "3.8.8"
  },
  "orig_nbformat": 4
 },
 "nbformat": 4,
 "nbformat_minor": 2
}
